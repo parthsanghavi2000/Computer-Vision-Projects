{
  "nbformat": 4,
  "nbformat_minor": 0,
  "metadata": {
    "colab": {
      "name": "DollyZoom_template.ipynb",
      "provenance": [],
      "collapsed_sections": []
    },
    "kernelspec": {
      "name": "python3",
      "display_name": "Python 3"
    }
  },
  "cells": [
    {
      "cell_type": "code",
      "metadata": {
        "id": "tHCM_7FCvrHB"
      },
      "source": [
        "import numpy as np"
      ],
      "execution_count": null,
      "outputs": []
    },
    {
      "cell_type": "code",
      "metadata": {
        "id": "D47c1oBjNCtE"
      },
      "source": [
        "def compute_focal_length( d_ref, f_ref, pos ):\n",
        "    \"\"\"\n",
        "    compute camera focal length using given camera position\n",
        "\n",
        "    Input:\n",
        "    - d_ref: 1 by 1 double, distance of the object whose size remains constant\n",
        "    - f_ref: 1 by 1 double, previous camera focal length\n",
        "    - pos: 1 by n, each element represent camera center position on the z axis.\n",
        "    Output:\n",
        "    - f: 1 by n, camera focal length\n",
        "    \"\"\"\n",
        "    f = None\n",
        "    \n",
        "    return f"
      ],
      "execution_count": null,
      "outputs": []
    },
    {
      "cell_type": "code",
      "metadata": {
        "id": "xT6kMNTVK53J"
      },
      "source": [
        "def compute_f_pos(d1_ref, d2_ref, H1, H2, ratio, f_ref):\n",
        "    \"\"\" \n",
        "    Compute camera focal length and camera position to achieve certain ratio\n",
        "    between objects\n",
        "\n",
        "    Input:\n",
        "    - d1_ref: distance of the first object\n",
        "    - d2_ref: distance of the second object\n",
        "    - H1: height of the first object in physical world\n",
        "    - H2: height of the second object in physical world\n",
        "    - ratio: ratio between two objects (h1'/h2')\n",
        "    - f_ref: 1 by 1 double, previous camera focal length\n",
        "    Output:\n",
        "    - f: 1 by 1, camera focal length\n",
        "    - pos: 1 by 1, camera position\n",
        "    \"\"\"\n",
        "    pos = None\n",
        "    f = None\n",
        "\n",
        "    return f, pos"
      ],
      "execution_count": null,
      "outputs": []
    },
    {
      "cell_type": "code",
      "metadata": {
        "id": "NdnzrKkdvXPM",
        "colab": {
          "base_uri": "https://localhost:8080/",
          "height": 33
        },
        "outputId": "a3c56870-797a-40c6-f3c0-67c8130e151a"
      },
      "source": [
        "'''\n",
        "Test\n",
        "'''\n",
        "import numpy as np\n",
        "d_ref = 4\n",
        "f_ref = 400\n",
        "pos = -5\n",
        "f = compute_focal_length(d_ref, f_ref, pos)  \n",
        "assert np.isclose(f, 900), \"Your computation of the focal length is off.\"\n",
        "print('test passed')"
      ],
      "execution_count": null,
      "outputs": [
        {
          "output_type": "stream",
          "name": "stdout",
          "text": [
            "test passed\n"
          ]
        }
      ]
    },
    {
      "cell_type": "code",
      "metadata": {
        "id": "RXh81YFjvF-y",
        "colab": {
          "base_uri": "https://localhost:8080/",
          "height": 33
        },
        "outputId": "81cff07c-df69-466f-8fe8-e44754d385ed"
      },
      "source": [
        "'''\n",
        "Test\n",
        "'''\n",
        "import numpy as np\n",
        "d1_ref = 4\n",
        "d2_ref = 20\n",
        "H1 = 4\n",
        "H2 = 6\n",
        "ratio = 2\n",
        "f_ref = 400\n",
        "f, pos = compute_f_pos( d1_ref, d2_ref, H1, H2, ratio, f_ref ) \n",
        "assert np.isclose(f, 800), \"Your computation of the focal length is off. Hint: h1/h2 != H1/H2\"\n",
        "assert np.isclose(pos, -4), \"Your computation of the position is off. Hint: h1/h2 != H1/H2\"\n",
        "print('test passed')"
      ],
      "execution_count": null,
      "outputs": [
        {
          "output_type": "stream",
          "name": "stdout",
          "text": [
            "test passed\n"
          ]
        }
      ]
    }
  ]
}